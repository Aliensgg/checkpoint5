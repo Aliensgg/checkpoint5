{
  "nbformat": 4,
  "nbformat_minor": 0,
  "metadata": {
    "colab": {
      "name": "Untitled9.ipynb",
      "provenance": [],
      "collapsed_sections": []
    },
    "kernelspec": {
      "name": "python3",
      "display_name": "Python 3"
    },
    "language_info": {
      "name": "python"
    }
  },
  "cells": [
    {
      "cell_type": "code",
      "execution_count": 18,
      "metadata": {
        "colab": {
          "base_uri": "https://localhost:8080/"
        },
        "id": "2oxiRrizmJH2",
        "outputId": "c236bd45-cf3c-494e-f6ab-974f8273a3fb"
      },
      "outputs": [
        {
          "output_type": "stream",
          "name": "stdout",
          "text": [
            "x is 1 ,y is 2, z is 3\n"
          ]
        }
      ],
      "source": [
        "class point3D:\n",
        " def __init__(self,x,y,z):\n",
        "   self.x=x\n",
        "   self.y=y\n",
        "   self.z=z\n",
        "my_point= point3D(1,2,3)\n",
        "print(\"x is {} ,y is {}, z is {}\".format(my_point.x,my_point.y,my_point.z))"
      ]
    },
    {
      "cell_type": "code",
      "source": [
        "class rectangle:\n",
        "  def __init__(self,lenght,width):\n",
        "     self.lenght =lenght\n",
        "     self.width= width\n",
        "\n",
        "  def area (self):\n",
        "    return self.lenght * self.width\n",
        "   \n",
        "  def perimeter (self):\n",
        "     return (self.lenght +self.width)*2\n",
        "my=rectangle(3,4)\n",
        "\n",
        "print(\"the perimiter is {}\".format(my.perimeter()))\n",
        "print(\"the area is {}\".format(my.area()))\n",
        "\n"
      ],
      "metadata": {
        "colab": {
          "base_uri": "https://localhost:8080/"
        },
        "id": "pVz6jjonqMWb",
        "outputId": "df4da07d-775e-4b3a-b924-cae5a367c875"
      },
      "execution_count": 45,
      "outputs": [
        {
          "output_type": "stream",
          "name": "stdout",
          "text": [
            "the perimiter is 14\n",
            "the area is 12\n"
          ]
        }
      ]
    },
    {
      "cell_type": "code",
      "source": [
        "class circle :\n",
        "  def __init__(self,ox,oy,rad):\n",
        "    self.rad=rad\n",
        "    self.ox=ox\n",
        "    self.oy=oy\n",
        "  def area (self):\n",
        "    return self.rad**2 *3.14\n",
        "\n",
        "  def perimeter (self):\n",
        "    return 2*3.14*self.rad\n",
        "\n",
        "  def isinside (self,ax,ay):\n",
        "\n",
        "      s=((ax-self.ox)**2+(ay-self.oy)**2)\n",
        "      if s <= self.rad**2 : print(\"is inside\")\n",
        "      else :\n",
        "            print(\"inside\")\n",
        "\n",
        "   \n",
        "my=circle(0,0,2)\n",
        "print(\"the area is{}\".format(my.area()))\n",
        "print(\"the perimeter is{}\".format(my.perimeter()))\n",
        "print(\"inside{}\".format(my.isinside(2,6)))        \n",
        "\n",
        "\n",
        "\n",
        "\n",
        "    \n",
        "  "
      ],
      "metadata": {
        "colab": {
          "base_uri": "https://localhost:8080/"
        },
        "id": "KKfYTTlQtDso",
        "outputId": "f7ba730a-f528-4b15-b873-9b32ab18f152"
      },
      "execution_count": 70,
      "outputs": [
        {
          "output_type": "stream",
          "name": "stdout",
          "text": [
            "the area is12.56\n",
            "the perimeter is12.56\n",
            "inside\n",
            "insideNone\n"
          ]
        }
      ]
    },
    {
      "cell_type": "code",
      "source": [
        ""
      ],
      "metadata": {
        "id": "dl-7jrD25bw_"
      },
      "execution_count": null,
      "outputs": []
    }
  ]
}